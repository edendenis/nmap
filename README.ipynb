{
 "cells": [
  {
   "cell_type": "markdown",
   "metadata": {},
   "source": [
    "# Como configurar/instalar o `nmap` e o `zenmap` no `Linux Ubuntu`\n",
    "\n",
    "## Resumo\n",
    "\n",
    "Neste documento estão contidos os principais comandos e configurações para configurar/instalar o `nmap` e o `zenmap` no `Linux Ubuntu`.\n",
    "\n",
    "## _Abstract_\n",
    "\n",
    "_In this document are contained the main commands and settings to set up/install the `nmap` and the `zenmap` on `Linux Ubuntu`._"
   ]
  },
  {
   "cell_type": "markdown",
   "metadata": {},
   "source": [
    "## Descrição [2]\n",
    "\n",
    "### `nmap`\n",
    "\n",
    "O `Nmap`, também conhecido como Network Mapper, é uma popular ferramenta de código aberto usada para mapear e avaliar redes de computadores. Ele é amplamente utilizado por administradores de rede, profissionais de segurança cibernética e pesquisadores para descobrir dispositivos ativos em uma rede, identificar portas abertas e serviços em execução nesses dispositivos, além de realizar varreduras de vulnerabilidades e auditorias de segurança. O `Nmap` oferece uma variedade de recursos avançados, incluindo detecção de sistemas operacionais, detecção de versões de serviços e capacidade de scripting para personalizar e automatizar tarefas de varredura. É uma ferramenta essencial para a descoberta e avaliação de redes e sistemas em ambientes de TI e segurança cibernética.\n",
    "\n",
    "### `zenmap`\n",
    "\n",
    "O `Zenmap` é uma interface gráfica de código aberto para o scanner de rede `Nmap`, uma das ferramentas de segurança e exploração de rede mais conhecidas e poderosas. O Zenmap simplifica o uso do `Nmap`, permitindo que os usuários realizem varreduras de rede e avaliem a segurança de sistemas e dispositivos de maneira mais intuitiva e visual. Ele fornece recursos avançados, como varreduras de portas, detecção de serviços, identificação de sistemas operacionais e mapeamento de redes, exibindo os resultados em um formato fácil de entender. O Zenmap é usado por profissionais de segurança, administradores de rede e entusiastas da tecnologia para avaliar a postura de segurança de redes e identificar possíveis vulnerabilidades. Suas funcionalidades são altamente configuráveis e podem ser usadas tanto para fins de auditoria de segurança quanto para administração de redes."
   ]
  },
  {
   "cell_type": "markdown",
   "metadata": {},
   "source": [
    "## 1. Como configurar/instalar o `nmap` e o `zenmap` no `Linux Ubuntu` [1]\n",
    "\n",
    "Para configurar/instalar o `nmap` e o `zenmap` no `Linux Ubuntu`, você pode seguir estes passos:\n",
    "\n",
    "1. Abra o `Terminal Emulator`. Você pode fazer isso pressionando: `Ctrl + Alt + T`"
   ]
  },
  {
   "cell_type": "markdown",
   "metadata": {},
   "source": [
    "2. Certifique-se de que seu sistema esteja limpo e atualizado.\n",
    "\n",
    "    2.1 Remover pacotes `.deb` antigos ou duplicados do cache local. É útil para liberar espaço, pois remove apenas os pacotes que não podem mais ser baixados (ou seja, versões antigas de pacotes que foram atualizados). Digite o seguinte comando: `sudo apt autoclean`\n",
    "\n",
    "    2.2 Remover pacotes que foram automaticamente instalados para satisfazer as dependências de outros pacotes e que não são mais necessários. Digite o seguinte comando: `sudo apt autoremove -y`\n",
    "\n",
    "    2.3 Buscar as atualizações disponíveis para os pacotes que estão instalados em seu sistema. Digite o seguinte comando e pressione `Enter`: `sudo apt update -y`\n",
    "\n",
    "    2.4 Para ver a lista de pacotes a serem atualizados, digite o seguinte comando e pressione `Enter`:  `sudo apt list --upgradable`\n",
    "\n",
    "    2.5 Realmente atualizar os pacotes instalados para as suas versões mais recentes, com base na última vez que você executou `sudo apt update -y`. Digite o seguinte comando e pressione `Enter`: `sudo apt full-upgrade -y`\n",
    "\n",
    "    2.6 Remover pacotes que foram automaticamente instalados para satisfazer as dependências de outros pacotes e que não são mais necessários. Digite o seguinte comando: `sudo apt autoremove -y`\n",
    "\n",
    "    2.7 Remover pacotes `.deb` antigos ou duplicados do cache local. É útil para liberar espaço, pois remove apenas os pacotes que não podem mais ser baixados (ou seja, versões antigas de pacotes que foram atualizados). Digite o seguinte comando: `sudo apt autoclean`"
   ]
  },
  {
   "cell_type": "markdown",
   "metadata": {},
   "source": [
    "### 1.1 `nmap`\n",
    "\n",
    "Para instalar o `nmap` no `Linux Ubuntu`, você pode seguir estas etapas usando o terminal:\n",
    "\n",
    "1. Abra o `Terminal Emulator`. Você pode fazer isso pressionando: `Ctrl + Alt + T`\n"
   ]
  },
  {
   "cell_type": "markdown",
   "metadata": {
    "vscode": {
     "languageId": "plaintext"
    }
   },
   "source": [
    "2. Certifique-se de que seu sistema esteja limpo e atualizado.\n",
    "\n",
    "    2.1 Limpar o `cache` do gerenciador de pacotes `apt`. Especificamente, ele remove todos os arquivos de pacotes (`.deb`) baixados pelo `apt` e armazenados em `/var/cache/apt/archives/`. Digite o seguinte comando: `sudo apt clean` \n",
    "    \n",
    "    2.2 Remover pacotes `.deb` antigos ou duplicados do cache local. É útil para liberar espaço, pois remove apenas os pacotes que não podem mais ser baixados (ou seja, versões antigas de pacotes que foram atualizados). Digite o seguinte comando: `sudo apt autoclean`\n",
    "\n",
    "    2.3 Remover pacotes que foram automaticamente instalados para satisfazer as dependências de outros pacotes e que não são mais necessários. Digite o seguinte comando: `sudo apt autoremove -y`\n",
    "\n",
    "    2.4 Buscar as atualizações disponíveis para os pacotes que estão instalados em seu sistema. Digite o seguinte comando e pressione `Enter`: `sudo apt update`\n",
    "\n",
    "    2.5 **Corrigir pacotes quebrados**: Isso atualizará a lista de pacotes disponíveis e tentará corrigir pacotes quebrados ou com dependências ausentes: `sudo apt --fix-broken install`\n",
    "\n",
    "    2.6 Limpar o `cache` do gerenciador de pacotes `apt`. Especificamente, ele remove todos os arquivos de pacotes (`.deb`) baixados pelo `apt` e armazenados em `/var/cache/apt/archives/`. Digite o seguinte comando: `sudo apt clean` \n",
    "    \n",
    "    2.7 Para ver a lista de pacotes a serem atualizados, digite o seguinte comando e pressione `Enter`:  `sudo apt list --upgradable`\n",
    "\n",
    "    2.8 Realmente atualizar os pacotes instalados para as suas versões mais recentes, com base na última vez que você executou `sudo apt update`. Digite o seguinte comando e pressione `Enter`: `sudo apt full-upgrade -y`\n",
    "  "
   ]
  },
  {
   "cell_type": "markdown",
   "metadata": {
    "vscode": {
     "languageId": "plaintext"
    }
   },
   "source": [
    "3. Após a atualização, você pode instalar o `nmap` usando o seguinte comando: `sudo apt install nmap -y`\n",
    "\n",
    "4. O sistema solicitará sua senha de administrador (`sudo`) para confirmar a instalação. Digite sua senha e pressione `\"Enter\"`.\n",
    "\n",
    "5. Aguarde até que o processo de instalação seja concluído. O `nmap` será baixado e instalado em seu sistema.\n",
    "\n",
    "6. Para verificar se o `nmap` foi instalado com sucesso, você pode executar o seguinte comando: `nmap --version`\n",
    "\n",
    "    Isso exibirá a versão do `nmap` instalada em seu sistema.\n",
    "\n",
    "Agora, você deve ter o `nmap` instalado em seu sistema `Linux Ubuntu` e pode começar a usá-lo para verificar portas e fazer análises de rede."
   ]
  },
  {
   "cell_type": "markdown",
   "metadata": {
    "vscode": {
     "languageId": "plaintext"
    }
   },
   "source": [
    "#### 1.1.1 Código completo para configurar/instalar\n",
    "\n",
    "Para instalar o `nmap` no `Linux Ubuntu` sem precisar digitar linha por linha, você pode seguir estas etapas:\n",
    "\n",
    "1. Abra o `Terminal Emulator`. Você pode fazer isso pressionando: `Ctrl + Alt + T`\n",
    "\n",
    "2. Digite o seguinte comando e pressione `Enter`:\n",
    "\n",
    "    ```\n",
    "    sudo apt autoclean\n",
    "    sudo apt autoremove\n",
    "    sudo apt update -y\n",
    "    sudo apt autoremove\n",
    "    sudo apt autoclean\n",
    "    sudo apt list --upgradavle\n",
    "    sudo apt full-upgrade -y\n",
    "    sudo apt install nmap -y\n",
    "    sudo apt update -ynmap --version\n",
    "    ```\n"
   ]
  },
  {
   "cell_type": "markdown",
   "metadata": {},
   "source": [
    "## 1.2 `zenmap`\n",
    "\n",
    "O `zenmap` **NÃO** vem pré-instalado no `Kali Linux` nem no `Linux Ubuntu`. Sendo assim, para instalar o `nmap` tant no `Kali Linux` quanto no `Linux`, siga as instruções no site: https://nmap.org/\n",
    "\n",
    "Para instalar um arquivo RPM como o zenmap-7.94-1.noarch.rpm em um sistema Linux Ubuntu, você precisará converter o pacote RPM em um formato adequado para o Ubuntu, que é o formato DEB. Você pode fazer isso usando a ferramenta alien. Aqui estão os passos para fazer a conversão e instalação:\n",
    "\n",
    "1. Instale a ferramenta alien se ainda não estiver instalada. Abra o terminal e execute o seguinte comando para instalar o alien:\n",
    "\n",
    "    ```\n",
    "    sudo apt update`\n",
    "    sudo apt install alien\n",
    "    ```\n",
    "\n",
    "2. Após a instalação do `alien`, você pode usar o seguinte comando para converter o arquivo RPM em um pacote DEB: `sudo alien -d zenmap-7.94-1.noarch.rpm`\n",
    "\n",
    "    Isso criará um arquivo DEB chamado `zenmap_7.94-2_all.deb` (o número da versão pode variar dependendo da versão do `Zenmap`) no diretório atual.\n",
    "\n",
    "3. Agora você pode instalar o pacote DEB usando o seguinte comando: `sudo dpkg -i zenmap_7.94-2_all.deb`\n",
    "\n",
    "    Substitua `\"zenmap_7.94-2_all.deb\"` pelo nome exato do arquivo DEB gerado no passo anterior.\n",
    "\n",
    "4. Após a instalação ser concluída, você pode iniciar o `Zenmap` a partir do terminal digitando: `zenmap`\n",
    "\n",
    "O `Zenmap` também pode ser encontrado em seu menu de aplicativos, dependendo do ambiente de desktop que você está usando.\n",
    "\n",
    "Isso deve permitir que você instale o `Zenmap` a partir do arquivo RPM no Ubuntu usando o `alien` para a conversão do pacote. Certifique-se de que todas as dependências sejam atendidas após a instalação."
   ]
  },
  {
   "cell_type": "markdown",
   "metadata": {
    "vscode": {
     "languageId": "plaintext"
    }
   },
   "source": [
    "## Referências\n",
    "\n",
    "[1] OPENAI. ***Instalar o Nmap no Linux.*** Disponível em: <https://chat.openai.com/c/375a616c-70f1-498d-b344-968c22e4a4de> (texto adaptado). Acessado em: 02/02/2024 12:16.\n",
    "\n",
    "[2] OPENAI. ***Vs code: editor popular.*** Disponível em: <https://chat.openai.com/c/b640a25d-f8e3-4922-8a3b-ed74a2657e42> (texto adaptado). Acessado em: 02/02/2024 12:16.\n"
   ]
  }
 ],
 "metadata": {
  "kernelspec": {
   "display_name": "Python 3",
   "language": "python",
   "name": "python3"
  },
  "language_info": {
   "codemirror_mode": {
    "name": "ipython",
    "version": 3
   },
   "file_extension": ".py",
   "mimetype": "text/x-python",
   "name": "python",
   "nbconvert_exporter": "python",
   "pygments_lexer": "ipython3",
   "version": "3.11.5"
  },
  "orig_nbformat": 4
 },
 "nbformat": 4,
 "nbformat_minor": 2
}
